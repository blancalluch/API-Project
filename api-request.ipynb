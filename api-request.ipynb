{
 "cells": [
  {
   "cell_type": "markdown",
   "metadata": {},
   "source": [
    "Recogemos toda la informacion de la api"
   ]
  },
  {
   "cell_type": "code",
   "execution_count": 145,
   "metadata": {},
   "outputs": [
    {
     "data": {
      "text/plain": [
       "[{'_id': {'$oid': '5de557f5728c350778a226f0'},\n",
       "  'idUser': 0,\n",
       "  'userName': 'John Wick',\n",
       "  'idMessage': 0,\n",
       "  'idChat': 0,\n",
       "  'datetime': '2019-10-17 10:15:41',\n",
       "  'text': 'Hey Mike, whats up??'},\n",
       " {'_id': {'$oid': '5de557f5728c350778a226f1'},\n",
       "  'idUser': 1,\n",
       "  'userName': 'Mike Wazowski',\n",
       "  'idMessage': 1,\n",
       "  'idChat': 0,\n",
       "  'datetime': '2019-10-17 10:16:59',\n",
       "  'text': 'Dude!!! 😀️ Did you watch the game last night?'},\n",
       " {'_id': {'$oid': '5de557f5728c350778a226f2'},\n",
       "  'idUser': 0,\n",
       "  'userName': 'John Wick',\n",
       "  'idMessage': 2,\n",
       "  'idChat': 0,\n",
       "  'datetime': '2019-10-17 10:17:31',\n",
       "  'text': 'No, had to work. How was it?'},\n",
       " {'_id': {'$oid': '5de557f5728c350778a226f3'},\n",
       "  'idUser': 1,\n",
       "  'userName': 'Mike Wazowski',\n",
       "  'idMessage': 3,\n",
       "  'idChat': 0,\n",
       "  'datetime': '2019-10-17 10:18:41',\n",
       "  'text': 'Awesome! Boyander scored 3 goals!'},\n",
       " {'_id': {'$oid': '5de557f5728c350778a226f4'},\n",
       "  'idUser': 0,\n",
       "  'userName': 'John Wick',\n",
       "  'idMessage': 4,\n",
       "  'idChat': 0,\n",
       "  'datetime': '2019-10-17 10:19:41',\n",
       "  'text': 'No way! 😮️'},\n",
       " {'_id': {'$oid': '5de557f5728c350778a226f5'},\n",
       "  'idUser': 1,\n",
       "  'userName': 'Mike Wazowski',\n",
       "  'idMessage': 5,\n",
       "  'idChat': 0,\n",
       "  'datetime': '2019-10-17 10:20:41',\n",
       "  'text': 'Way...'},\n",
       " {'_id': {'$oid': '5de557f5728c350778a226f6'},\n",
       "  'idUser': 0,\n",
       "  'userName': 'John Wick',\n",
       "  'idMessage': 6,\n",
       "  'idChat': 0,\n",
       "  'datetime': '2019-10-17 10:21:41',\n",
       "  'text': 'I bet people went crazy'},\n",
       " {'_id': {'$oid': '5de557f5728c350778a226f7'},\n",
       "  'idUser': 1,\n",
       "  'userName': 'Mike Wazowski',\n",
       "  'idMessage': 7,\n",
       "  'idChat': 0,\n",
       "  'datetime': '2019-10-17 10:22:41',\n",
       "  'text': 'For sure. We stayed at KuboLoco until 6AM.'},\n",
       " {'_id': {'$oid': '5de557f5728c350778a226f8'},\n",
       "  'idUser': 0,\n",
       "  'userName': 'John Wick',\n",
       "  'idMessage': 8,\n",
       "  'idChat': 0,\n",
       "  'datetime': '2019-10-17 10:23:41',\n",
       "  'text': 'Motherfucker! Hungover? 😵️'},\n",
       " {'_id': {'$oid': '5de557f5728c350778a226f9'},\n",
       "  'idUser': 1,\n",
       "  'userName': 'Mike Wazowski',\n",
       "  'idMessage': 9,\n",
       "  'idChat': 0,\n",
       "  'datetime': '2019-10-17 10:24:41',\n",
       "  'text': 'Dead, burried and still suffering! 🤮️'},\n",
       " {'_id': {'$oid': '5de557f5728c350778a226fa'},\n",
       "  'idUser': 2,\n",
       "  'userName': 'Leia Organa',\n",
       "  'idMessage': 10,\n",
       "  'idChat': 1,\n",
       "  'datetime': '2019-10-18 10:15:41',\n",
       "  'text': 'Im so angry right now!'},\n",
       " {'_id': {'$oid': '5de557f5728c350778a226fb'},\n",
       "  'idUser': 3,\n",
       "  'userName': 'Tony Stark',\n",
       "  'idMessage': 11,\n",
       "  'idChat': 1,\n",
       "  'datetime': '2019-10-18 10:16:41',\n",
       "  'text': 'I saw you this morning. You shouldnt get so upset. ❤️'},\n",
       " {'_id': {'$oid': '5de557f5728c350778a226fc'},\n",
       "  'idUser': 2,\n",
       "  'userName': 'Leia Organa',\n",
       "  'idMessage': 12,\n",
       "  'idChat': 1,\n",
       "  'datetime': '2019-10-18 10:17:41',\n",
       "  'text': 'Impossible! Cant do it! Just cant! He pissed me off so much.'},\n",
       " {'_id': {'$oid': '5de557f5728c350778a226fd'},\n",
       "  'idUser': 3,\n",
       "  'userName': 'Tony Stark',\n",
       "  'idMessage': 13,\n",
       "  'idChat': 1,\n",
       "  'datetime': '2019-10-18 10:18:41',\n",
       "  'text': 'Dont get so frustrated, Leia. Remember what German said.'},\n",
       " {'_id': {'$oid': '5de557f5728c350778a226fe'},\n",
       "  'idUser': 2,\n",
       "  'userName': 'Leia Organa',\n",
       "  'idMessage': 14,\n",
       "  'idChat': 1,\n",
       "  'datetime': '2019-10-18 10:19:41',\n",
       "  'text': 'But how am I suposed to fix the facial recognition system if it doesnt even work?'},\n",
       " {'_id': {'$oid': '5de557f5728c350778a226ff'},\n",
       "  'idUser': 3,\n",
       "  'userName': 'Tony Stark',\n",
       "  'idMessage': 15,\n",
       "  'idChat': 1,\n",
       "  'datetime': '2019-10-18 10:20:41',\n",
       "  'text': 'Im sure you will find a way.'},\n",
       " {'_id': {'$oid': '5de557f5728c350778a22700'},\n",
       "  'idUser': 2,\n",
       "  'userName': 'Leia Organa',\n",
       "  'idMessage': 16,\n",
       "  'idChat': 1,\n",
       "  'datetime': '2019-10-18 10:21:41',\n",
       "  'text': 'And who the hell is Tony? 🤯️'},\n",
       " {'_id': {'$oid': '5de557f5728c350778a22701'},\n",
       "  'idUser': 3,\n",
       "  'userName': 'Tony Stark',\n",
       "  'idMessage': 17,\n",
       "  'idChat': 1,\n",
       "  'datetime': '2019-10-18 10:22:41',\n",
       "  'text': 'I am Iron Man'},\n",
       " {'_id': {'$oid': '5de557f5728c350778a22702'},\n",
       "  'idUser': 2,\n",
       "  'userName': 'Leia Organa',\n",
       "  'idMessage': 18,\n",
       "  'idChat': 1,\n",
       "  'datetime': '2019-10-18 10:23:41',\n",
       "  'text': 'Oh shit. I think youre friends with my brother.'},\n",
       " {'_id': {'$oid': '5de557f5728c350778a22703'},\n",
       "  'idUser': 3,\n",
       "  'userName': 'Tony Stark',\n",
       "  'idMessage': 19,\n",
       "  'idChat': 1,\n",
       "  'datetime': '2019-10-18 10:24:41',\n",
       "  'text': 'Uh-Oh. Better fix that quickly.'},\n",
       " {'_id': {'$oid': '5de557f5728c350778a22704'},\n",
       "  'idUser': 1,\n",
       "  'userName': 'Mike Wazowski',\n",
       "  'idMessage': 20,\n",
       "  'idChat': 2,\n",
       "  'datetime': '2019-10-19 10:15:41',\n",
       "  'text': 'Sweety pie! How Ive longed to talk to you.'},\n",
       " {'_id': {'$oid': '5de557f5728c350778a22705'},\n",
       "  'idUser': 4,\n",
       "  'userName': 'Ellen Ripley',\n",
       "  'idMessage': 21,\n",
       "  'idChat': 2,\n",
       "  'datetime': '2019-10-19 10:16:41',\n",
       "  'text': 'Not again, Michael.... 😒️'},\n",
       " {'_id': {'$oid': '5de557f5728c350778a22706'},\n",
       "  'idUser': 1,\n",
       "  'userName': 'Mike Wazowski',\n",
       "  'idMessage': 22,\n",
       "  'idChat': 2,\n",
       "  'datetime': '2019-10-19 10:17:41',\n",
       "  'text': 'Its Mike, honey bunny. Or doctor LOVE! And youre a sick little girl.'},\n",
       " {'_id': {'$oid': '5de557f5728c350778a22707'},\n",
       "  'idUser': 4,\n",
       "  'userName': 'Ellen Ripley',\n",
       "  'idMessage': 23,\n",
       "  'idChat': 2,\n",
       "  'datetime': '2019-10-19 10:18:41',\n",
       "  'text': 'Im gonna report you to Human Resources again, Michael.'},\n",
       " {'_id': {'$oid': '5de557f5728c350778a22708'},\n",
       "  'idUser': 1,\n",
       "  'userName': 'Mike Wazowski',\n",
       "  'idMessage': 24,\n",
       "  'idChat': 2,\n",
       "  'datetime': '2019-10-19 10:19:41',\n",
       "  'text': 'Cant handle me on your own?'},\n",
       " {'_id': {'$oid': '5de557f5728c350778a22709'},\n",
       "  'idUser': 4,\n",
       "  'userName': 'Ellen Ripley',\n",
       "  'idMessage': 25,\n",
       "  'idChat': 2,\n",
       "  'datetime': '2019-10-19 10:20:41',\n",
       "  'text': 'Id rather have a fucking alien crawling out of my ass'},\n",
       " {'_id': {'$oid': '5de557f5728c350778a2270a'},\n",
       "  'idUser': 1,\n",
       "  'userName': 'Mike Wazowski',\n",
       "  'idMessage': 26,\n",
       "  'idChat': 2,\n",
       "  'datetime': '2019-10-19 10:21:41',\n",
       "  'text': 'That would be hot... 🔥️'},\n",
       " {'_id': {'$oid': '5de557f5728c350778a2270b'},\n",
       "  'idUser': 4,\n",
       "  'userName': 'Ellen Ripley',\n",
       "  'idMessage': 27,\n",
       "  'idChat': 2,\n",
       "  'datetime': '2019-10-19 10:22:41',\n",
       "  'text': 'Ok, youve got to stop drinking! Im calling HR.'},\n",
       " {'_id': {'$oid': '5de557f5728c350778a2270c'},\n",
       "  'idUser': 1,\n",
       "  'userName': 'Mike Wazowski',\n",
       "  'idMessage': 28,\n",
       "  'idChat': 2,\n",
       "  'datetime': '2019-10-19 10:23:41',\n",
       "  'text': 'I NEED VODKA LIKE A CAR NEEDS GAS'},\n",
       " {'_id': {'$oid': '5de557f5728c350778a2270d'},\n",
       "  'idUser': 4,\n",
       "  'userName': 'Ellen Ripley',\n",
       "  'idMessage': 29,\n",
       "  'idChat': 2,\n",
       "  'datetime': '2019-10-19 10:24:41',\n",
       "  'text': 'Dude... Alcoholics Anonymous: https://www.aa.org'},\n",
       " {'_id': {'$oid': '5de557f5728c350778a2270e'},\n",
       "  'idUser': 5,\n",
       "  'userName': 'J. Jonah Jameson',\n",
       "  'idMessage': 30,\n",
       "  'idChat': 3,\n",
       "  'datetime': '2019-10-20 10:15:41',\n",
       "  'text': 'I want pictures of Spiderman and I want them now!'},\n",
       " {'_id': {'$oid': '5de557f5728c350778a2270f'},\n",
       "  'idUser': 0,\n",
       "  'userName': 'John Wick',\n",
       "  'idMessage': 31,\n",
       "  'idChat': 3,\n",
       "  'datetime': '2019-10-20 10:16:41',\n",
       "  'text': 'Sure, boss.'},\n",
       " {'_id': {'$oid': '5de557f5728c350778a22710'},\n",
       "  'idUser': 5,\n",
       "  'userName': 'J. Jonah Jameson',\n",
       "  'idMessage': 32,\n",
       "  'idChat': 3,\n",
       "  'datetime': '2019-10-20 10:17:41',\n",
       "  'text': 'Youve got to take me seriously.'},\n",
       " {'_id': {'$oid': '5de557f5728c350778a22711'},\n",
       "  'idUser': 0,\n",
       "  'userName': 'John Wick',\n",
       "  'idMessage': 33,\n",
       "  'idChat': 3,\n",
       "  'datetime': '2019-10-20 10:18:41',\n",
       "  'text': 'I do! I just dont feel appreciated in my job'},\n",
       " {'_id': {'$oid': '5de557f5728c350778a22712'},\n",
       "  'idUser': 5,\n",
       "  'userName': 'J. Jonah Jameson',\n",
       "  'idMessage': 34,\n",
       "  'idChat': 3,\n",
       "  'datetime': '2019-10-20 10:19:41',\n",
       "  'text': 'Thats why youve got to get those damm pictures!!'},\n",
       " {'_id': {'$oid': '5de557f5728c350778a22713'},\n",
       "  'idUser': 0,\n",
       "  'userName': 'John Wick',\n",
       "  'idMessage': 35,\n",
       "  'idChat': 3,\n",
       "  'datetime': '2019-10-20 10:20:41',\n",
       "  'text': 'I dunno...'},\n",
       " {'_id': {'$oid': '5de557f5728c350778a22714'},\n",
       "  'idUser': 5,\n",
       "  'userName': 'J. Jonah Jameson',\n",
       "  'idMessage': 36,\n",
       "  'idChat': 3,\n",
       "  'datetime': '2019-10-20 10:21:41',\n",
       "  'text': 'Get the god damn motherfucking fuckity fuck bloody ballsack pictures'},\n",
       " {'_id': {'$oid': '5de557f5728c350778a22715'},\n",
       "  'idUser': 0,\n",
       "  'userName': 'John Wick',\n",
       "  'idMessage': 37,\n",
       "  'idChat': 3,\n",
       "  'datetime': '2019-10-20 10:22:41',\n",
       "  'text': 'Maybe'},\n",
       " {'_id': {'$oid': '5de557f5728c350778a22716'},\n",
       "  'idUser': 5,\n",
       "  'userName': 'J. Jonah Jameson',\n",
       "  'idMessage': 38,\n",
       "  'idChat': 3,\n",
       "  'datetime': '2019-10-20 10:23:41',\n",
       "  'text': 'Youve got to! And I believe in you'},\n",
       " {'_id': {'$oid': '5de557f5728c350778a22717'},\n",
       "  'idUser': 0,\n",
       "  'userName': 'John Wick',\n",
       "  'idMessage': 39,\n",
       "  'idChat': 3,\n",
       "  'datetime': '2019-10-20 10:24:41',\n",
       "  'text': 'Thank you, boss! I feel much better...'},\n",
       " {'_id': {'$oid': '5de557f5728c350778a22718'},\n",
       "  'idUser': 6,\n",
       "  'userName': 'Danny Torrances Finger',\n",
       "  'idMessage': 40,\n",
       "  'idChat': 4,\n",
       "  'datetime': '2019-10-21 10:15:41',\n",
       "  'text': 'REDRUM'},\n",
       " {'_id': {'$oid': '5de557f5728c350778a22719'},\n",
       "  'idUser': 7,\n",
       "  'userName': 'Danny Torrance',\n",
       "  'idMessage': 41,\n",
       "  'idChat': 4,\n",
       "  'datetime': '2019-10-21 10:16:41',\n",
       "  'text': 'What was that?'},\n",
       " {'_id': {'$oid': '5de557f5728c350778a2271a'},\n",
       "  'idUser': 6,\n",
       "  'userName': 'Danny Torrances Finger',\n",
       "  'idMessage': 42,\n",
       "  'idChat': 4,\n",
       "  'datetime': '2019-10-21 10:17:41',\n",
       "  'text': 'REDRUM REDRUM REDRUM'},\n",
       " {'_id': {'$oid': '5de557f5728c350778a2271b'},\n",
       "  'idUser': 7,\n",
       "  'userName': 'Danny Torrance',\n",
       "  'idMessage': 43,\n",
       "  'idChat': 4,\n",
       "  'datetime': '2019-10-21 10:18:41',\n",
       "  'text': 'Did you mean red room? Id love a red room.'},\n",
       " {'_id': {'$oid': '5de557f5728c350778a2271c'},\n",
       "  'idUser': 6,\n",
       "  'userName': 'Danny Torrances Finger',\n",
       "  'idMessage': 44,\n",
       "  'idChat': 4,\n",
       "  'datetime': '2019-10-21 10:19:41',\n",
       "  'text': 'Murder, bro, cold blooded splashy murderous fun'},\n",
       " {'_id': {'$oid': '5de557f5728c350778a2271d'},\n",
       "  'idUser': 7,\n",
       "  'userName': 'Danny Torrance',\n",
       "  'idMessage': 45,\n",
       "  'idChat': 4,\n",
       "  'datetime': '2019-10-21 10:20:41',\n",
       "  'text': 'Chill out, pinky.. Its such a nice day'},\n",
       " {'_id': {'$oid': '5de557f5728c350778a2271e'},\n",
       "  'idUser': 6,\n",
       "  'userName': 'Danny Torrances Finger',\n",
       "  'idMessage': 46,\n",
       "  'idChat': 4,\n",
       "  'datetime': '2019-10-21 10:21:41',\n",
       "  'text': 'A nice day to create havoc!'},\n",
       " {'_id': {'$oid': '5de557f5728c350778a2271f'},\n",
       "  'idUser': 7,\n",
       "  'userName': 'Danny Torrance',\n",
       "  'idMessage': 47,\n",
       "  'idChat': 4,\n",
       "  'datetime': '2019-10-21 10:22:41',\n",
       "  'text': 'Ill go for a walk in the park, I guess. Maybe fishing'},\n",
       " {'_id': {'$oid': '5de557f5728c350778a22720'},\n",
       "  'idUser': 6,\n",
       "  'userName': 'Danny Torrances Finger',\n",
       "  'idMessage': 48,\n",
       "  'idChat': 4,\n",
       "  'datetime': '2019-10-21 10:23:41',\n",
       "  'text': 'Fishing sounds good. What about the labyrinth?'},\n",
       " {'_id': {'$oid': '5de557f5728c350778a22721'},\n",
       "  'idUser': 7,\n",
       "  'userName': 'Danny Torrance',\n",
       "  'idMessage': 49,\n",
       "  'idChat': 4,\n",
       "  'datetime': '2019-10-21 10:24:41',\n",
       "  'text': 'No! That places creeps me out..'}]"
      ]
     },
     "execution_count": 145,
     "metadata": {},
     "output_type": "execute_result"
    }
   ],
   "source": [
    "import requests\n",
    "\n",
    "data = requests.get('http://localhost:8080/').json()\n",
    "data"
   ]
  },
  {
   "cell_type": "markdown",
   "metadata": {},
   "source": [
    "Recogemos toda la informacion de los usuarios de la api"
   ]
  },
  {
   "cell_type": "code",
   "execution_count": 147,
   "metadata": {},
   "outputs": [
    {
     "data": {
      "text/plain": [
       "<Response [200]>"
      ]
     },
     "execution_count": 147,
     "metadata": {},
     "output_type": "execute_result"
    }
   ],
   "source": [
    "users=requests.get('http://localhost:8080/usernames')\n",
    "users"
   ]
  },
  {
   "cell_type": "markdown",
   "metadata": {},
   "source": [
    "Recogemos toda la informacion de los chats de la api"
   ]
  },
  {
   "cell_type": "code",
   "execution_count": 148,
   "metadata": {},
   "outputs": [
    {
     "data": {
      "text/plain": [
       "<Response [200]>"
      ]
     },
     "execution_count": 148,
     "metadata": {},
     "output_type": "execute_result"
    }
   ],
   "source": [
    "chats=requests.get('http://localhost:8080/chats')\n",
    "chats"
   ]
  },
  {
   "cell_type": "markdown",
   "metadata": {},
   "source": [
    "Recogemos todos los mensajes del chat x"
   ]
  },
  {
   "cell_type": "code",
   "execution_count": 149,
   "metadata": {},
   "outputs": [
    {
     "data": {
      "text/plain": [
       "<Response [200]>"
      ]
     },
     "execution_count": 149,
     "metadata": {},
     "output_type": "execute_result"
    }
   ],
   "source": [
    "chat=requests.get('http://localhost:8080/chat/1/list')\n",
    "chat"
   ]
  },
  {
   "cell_type": "markdown",
   "metadata": {},
   "source": [
    "Recogemos toda la informacion de los usuarios,mensajes y sentimientos del chat x de la api."
   ]
  },
  {
   "cell_type": "code",
   "execution_count": 150,
   "metadata": {},
   "outputs": [
    {
     "data": {
      "text/plain": [
       "<Response [200]>"
      ]
     },
     "execution_count": 150,
     "metadata": {},
     "output_type": "execute_result"
    }
   ],
   "source": [
    "sent=requests.get('http://localhost:8080/chat/0/sentiment')\n",
    "sent"
   ]
  },
  {
   "cell_type": "markdown",
   "metadata": {},
   "source": [
    "Añadimos un usuario nuevo"
   ]
  },
  {
   "cell_type": "code",
   "execution_count": null,
   "metadata": {},
   "outputs": [],
   "source": [
    "url='http://localhost:8080/user/create'\n",
    "params={\"userName\": \"Blanca Lluch\"}\n",
    "new_user=requests.post(url,data=params)\n",
    "new_user"
   ]
  },
  {
   "cell_type": "markdown",
   "metadata": {},
   "source": [
    "Añadimos un usuario al chat indicado."
   ]
  },
  {
   "cell_type": "code",
   "execution_count": null,
   "metadata": {},
   "outputs": [],
   "source": [
    "url='http://localhost:8080/chat/2/adduser'\n",
    "params={\"user_id\": 3}\n",
    "user_ad=requests.post(url,data=params)\n",
    "user_ad"
   ]
  },
  {
   "cell_type": "markdown",
   "metadata": {},
   "source": [
    "Añadimos un mensaje en el chat indicado del usuario indicado."
   ]
  },
  {
   "cell_type": "code",
   "execution_count": null,
   "metadata": {},
   "outputs": [],
   "source": [
    "url='http://localhost:8080/chat/3/addmessage'\n",
    "params={\"user_id\": 3,\n",
    "       \"text\":\"What an amazing week!\"}\n",
    "message_id=requests.post(url,data=params)\n",
    "message_id"
   ]
  },
  {
   "cell_type": "markdown",
   "metadata": {},
   "source": [
    "Pedimos recomendacion para un usuario"
   ]
  },
  {
   "cell_type": "code",
   "execution_count": null,
   "metadata": {},
   "outputs": [],
   "source": [
    "recomendation=requests.get('http://localhost:8080/user/3/recommend')\n",
    "recomendation"
   ]
  },
  {
   "cell_type": "code",
   "execution_count": null,
   "metadata": {},
   "outputs": [],
   "source": []
  }
 ],
 "metadata": {
  "kernelspec": {
   "display_name": "Python 3",
   "language": "python",
   "name": "python3"
  },
  "language_info": {
   "codemirror_mode": {
    "name": "ipython",
    "version": 3
   },
   "file_extension": ".py",
   "mimetype": "text/x-python",
   "name": "python",
   "nbconvert_exporter": "python",
   "pygments_lexer": "ipython3",
   "version": "3.7.4"
  }
 },
 "nbformat": 4,
 "nbformat_minor": 2
}
