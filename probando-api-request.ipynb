{
 "cells": [
  {
   "cell_type": "code",
   "execution_count": 23,
   "metadata": {},
   "outputs": [
    {
     "data": {
      "text/plain": [
       "[{'_id': {'$oid': '5de3f92ad61a88a26c6af909'},\n",
       "  'idUser': 2,\n",
       "  'userName': 'Leia Organa',\n",
       "  'idMessage': 10,\n",
       "  'idChat': 1,\n",
       "  'datetime': '2019-10-18 10:15:41',\n",
       "  'text': 'Im so angry right now!'},\n",
       " {'_id': {'$oid': '5de3f92ad61a88a26c6af90a'},\n",
       "  'idUser': 3,\n",
       "  'userName': 'Tony Stark',\n",
       "  'idMessage': 11,\n",
       "  'idChat': 1,\n",
       "  'datetime': '2019-10-18 10:16:41',\n",
       "  'text': 'I saw you this morning. You shouldnt get so upset. ❤️'},\n",
       " {'_id': {'$oid': '5de3f92ad61a88a26c6af90b'},\n",
       "  'idUser': 2,\n",
       "  'userName': 'Leia Organa',\n",
       "  'idMessage': 12,\n",
       "  'idChat': 1,\n",
       "  'datetime': '2019-10-18 10:17:41',\n",
       "  'text': 'Impossible! Cant do it! Just cant! He pissed me off so much.'},\n",
       " {'_id': {'$oid': '5de3f92ad61a88a26c6af90c'},\n",
       "  'idUser': 3,\n",
       "  'userName': 'Tony Stark',\n",
       "  'idMessage': 13,\n",
       "  'idChat': 1,\n",
       "  'datetime': '2019-10-18 10:18:41',\n",
       "  'text': 'Dont get so frustrated, Leia. Remember what German said.'},\n",
       " {'_id': {'$oid': '5de3f92ad61a88a26c6af90d'},\n",
       "  'idUser': 2,\n",
       "  'userName': 'Leia Organa',\n",
       "  'idMessage': 14,\n",
       "  'idChat': 1,\n",
       "  'datetime': '2019-10-18 10:19:41',\n",
       "  'text': 'But how am I suposed to fix the facial recognition system if it doesnt even work?'},\n",
       " {'_id': {'$oid': '5de3f92ad61a88a26c6af90e'},\n",
       "  'idUser': 3,\n",
       "  'userName': 'Tony Stark',\n",
       "  'idMessage': 15,\n",
       "  'idChat': 1,\n",
       "  'datetime': '2019-10-18 10:20:41',\n",
       "  'text': 'Im sure you will find a way.'},\n",
       " {'_id': {'$oid': '5de3f92ad61a88a26c6af90f'},\n",
       "  'idUser': 2,\n",
       "  'userName': 'Leia Organa',\n",
       "  'idMessage': 16,\n",
       "  'idChat': 1,\n",
       "  'datetime': '2019-10-18 10:21:41',\n",
       "  'text': 'And who the hell is Tony? 🤯️'},\n",
       " {'_id': {'$oid': '5de3f92ad61a88a26c6af910'},\n",
       "  'idUser': 3,\n",
       "  'userName': 'Tony Stark',\n",
       "  'idMessage': 17,\n",
       "  'idChat': 1,\n",
       "  'datetime': '2019-10-18 10:22:41',\n",
       "  'text': 'I am Iron Man'},\n",
       " {'_id': {'$oid': '5de3f92ad61a88a26c6af911'},\n",
       "  'idUser': 2,\n",
       "  'userName': 'Leia Organa',\n",
       "  'idMessage': 18,\n",
       "  'idChat': 1,\n",
       "  'datetime': '2019-10-18 10:23:41',\n",
       "  'text': 'Oh shit. I think youre friends with my brother.'},\n",
       " {'_id': {'$oid': '5de3f92ad61a88a26c6af912'},\n",
       "  'idUser': 3,\n",
       "  'userName': 'Tony Stark',\n",
       "  'idMessage': 19,\n",
       "  'idChat': 1,\n",
       "  'datetime': '2019-10-18 10:24:41',\n",
       "  'text': 'Uh-Oh. Better fix that quickly.'}]"
      ]
     },
     "execution_count": 23,
     "metadata": {},
     "output_type": "execute_result"
    }
   ],
   "source": [
    "import requests\n",
    "\n",
    "data = requests.get('http://localhost:8080/chat/1').json()\n",
    "#print(data[\"chiste\"])\n",
    "data"
   ]
  },
  {
   "cell_type": "code",
   "execution_count": 18,
   "metadata": {},
   "outputs": [
    {
     "data": {
      "text/plain": [
       "0"
      ]
     },
     "execution_count": 18,
     "metadata": {},
     "output_type": "execute_result"
    }
   ],
   "source": [
    "data[0][\"idChat\"]"
   ]
  },
  {
   "cell_type": "code",
   "execution_count": 5,
   "metadata": {},
   "outputs": [
    {
     "data": {
      "text/plain": [
       "<Response [200]>"
      ]
     },
     "execution_count": 5,
     "metadata": {},
     "output_type": "execute_result"
    }
   ],
   "source": [
    "requests.post('http://localhost:8080/add')"
   ]
  },
  {
   "cell_type": "code",
   "execution_count": 14,
   "metadata": {},
   "outputs": [
    {
     "data": {
      "text/plain": [
       "'{\"inserted_doc\": \"5de29748c15c42e4fe6ba305\"}'"
      ]
     },
     "execution_count": 14,
     "metadata": {},
     "output_type": "execute_result"
    }
   ],
   "source": [
    "url='http://localhost:8080/add'\n",
    "params={'autor':'chiquito',\n",
    "       'chiste':'prueba6'}\n",
    "requests.post(url, data=params).text"
   ]
  },
  {
   "cell_type": "code",
   "execution_count": null,
   "metadata": {},
   "outputs": [],
   "source": []
  }
 ],
 "metadata": {
  "kernelspec": {
   "display_name": "Python 3",
   "language": "python",
   "name": "python3"
  },
  "language_info": {
   "codemirror_mode": {
    "name": "ipython",
    "version": 3
   },
   "file_extension": ".py",
   "mimetype": "text/x-python",
   "name": "python",
   "nbconvert_exporter": "python",
   "pygments_lexer": "ipython3",
   "version": "3.7.4"
  }
 },
 "nbformat": 4,
 "nbformat_minor": 2
}
