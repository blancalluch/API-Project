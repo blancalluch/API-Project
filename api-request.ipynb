{
 "cells": [
  {
   "cell_type": "markdown",
   "metadata": {},
   "source": [
    "Recogemos toda la informacion de la api"
   ]
  },
  {
   "cell_type": "code",
   "execution_count": 28,
   "metadata": {},
   "outputs": [
    {
     "data": {
      "text/html": [
       "<div>\n",
       "<style scoped>\n",
       "    .dataframe tbody tr th:only-of-type {\n",
       "        vertical-align: middle;\n",
       "    }\n",
       "\n",
       "    .dataframe tbody tr th {\n",
       "        vertical-align: top;\n",
       "    }\n",
       "\n",
       "    .dataframe thead th {\n",
       "        text-align: right;\n",
       "    }\n",
       "</style>\n",
       "<table border=\"1\" class=\"dataframe\">\n",
       "  <thead>\n",
       "    <tr style=\"text-align: right;\">\n",
       "      <th></th>\n",
       "      <th>_id</th>\n",
       "      <th>idUser</th>\n",
       "      <th>userName</th>\n",
       "      <th>idMessage</th>\n",
       "      <th>idChat</th>\n",
       "      <th>datetime</th>\n",
       "      <th>text</th>\n",
       "    </tr>\n",
       "  </thead>\n",
       "  <tbody>\n",
       "    <tr>\n",
       "      <th>0</th>\n",
       "      <td>{'$oid': '5de776e89ea32e719e123f21'}</td>\n",
       "      <td>0</td>\n",
       "      <td>John Wick</td>\n",
       "      <td>0.0</td>\n",
       "      <td>0.0</td>\n",
       "      <td>2019-10-17 10:15:41</td>\n",
       "      <td>Hey Mike, whats up??</td>\n",
       "    </tr>\n",
       "    <tr>\n",
       "      <th>1</th>\n",
       "      <td>{'$oid': '5de776e89ea32e719e123f22'}</td>\n",
       "      <td>1</td>\n",
       "      <td>Mike Wazowski</td>\n",
       "      <td>1.0</td>\n",
       "      <td>0.0</td>\n",
       "      <td>2019-10-17 10:16:59</td>\n",
       "      <td>Dude!!! 😀️ Did you watch the game last night?</td>\n",
       "    </tr>\n",
       "    <tr>\n",
       "      <th>2</th>\n",
       "      <td>{'$oid': '5de776e89ea32e719e123f23'}</td>\n",
       "      <td>0</td>\n",
       "      <td>John Wick</td>\n",
       "      <td>2.0</td>\n",
       "      <td>0.0</td>\n",
       "      <td>2019-10-17 10:17:31</td>\n",
       "      <td>No, had to work. How was it?</td>\n",
       "    </tr>\n",
       "    <tr>\n",
       "      <th>3</th>\n",
       "      <td>{'$oid': '5de776e89ea32e719e123f24'}</td>\n",
       "      <td>1</td>\n",
       "      <td>Mike Wazowski</td>\n",
       "      <td>3.0</td>\n",
       "      <td>0.0</td>\n",
       "      <td>2019-10-17 10:18:41</td>\n",
       "      <td>Awesome! Boyander scored 3 goals!</td>\n",
       "    </tr>\n",
       "    <tr>\n",
       "      <th>4</th>\n",
       "      <td>{'$oid': '5de776e89ea32e719e123f25'}</td>\n",
       "      <td>0</td>\n",
       "      <td>John Wick</td>\n",
       "      <td>4.0</td>\n",
       "      <td>0.0</td>\n",
       "      <td>2019-10-17 10:19:41</td>\n",
       "      <td>No way! 😮️</td>\n",
       "    </tr>\n",
       "  </tbody>\n",
       "</table>\n",
       "</div>"
      ],
      "text/plain": [
       "                                    _id  idUser       userName  idMessage  \\\n",
       "0  {'$oid': '5de776e89ea32e719e123f21'}       0      John Wick        0.0   \n",
       "1  {'$oid': '5de776e89ea32e719e123f22'}       1  Mike Wazowski        1.0   \n",
       "2  {'$oid': '5de776e89ea32e719e123f23'}       0      John Wick        2.0   \n",
       "3  {'$oid': '5de776e89ea32e719e123f24'}       1  Mike Wazowski        3.0   \n",
       "4  {'$oid': '5de776e89ea32e719e123f25'}       0      John Wick        4.0   \n",
       "\n",
       "   idChat             datetime                                           text  \n",
       "0     0.0  2019-10-17 10:15:41                           Hey Mike, whats up??  \n",
       "1     0.0  2019-10-17 10:16:59  Dude!!! 😀️ Did you watch the game last night?  \n",
       "2     0.0  2019-10-17 10:17:31                   No, had to work. How was it?  \n",
       "3     0.0  2019-10-17 10:18:41              Awesome! Boyander scored 3 goals!  \n",
       "4     0.0  2019-10-17 10:19:41                                     No way! 😮️  "
      ]
     },
     "execution_count": 28,
     "metadata": {},
     "output_type": "execute_result"
    }
   ],
   "source": [
    "import requests\n",
    "import pandas as pd\n",
    "\n",
    "data = requests.get('http://localhost:8080/').json()\n",
    "pd.DataFrame(data).head()"
   ]
  },
  {
   "cell_type": "markdown",
   "metadata": {},
   "source": [
    "Recogemos todos los nombres de los usuarios de la api"
   ]
  },
  {
   "cell_type": "code",
   "execution_count": 29,
   "metadata": {},
   "outputs": [
    {
     "data": {
      "text/plain": [
       "'[\"John Wick\", \"Mike Wazowski\", \"Leia Organa\", \"Tony Stark\", \"Ellen Ripley\", \"J. Jonah Jameson\", \"Danny Torrances Finger\", \"Danny Torrance\", \"Blanca Lluch\"]'"
      ]
     },
     "execution_count": 29,
     "metadata": {},
     "output_type": "execute_result"
    }
   ],
   "source": [
    "users=requests.get('http://0.0.0.0:8080/usernames').text\n",
    "users"
   ]
  },
  {
   "cell_type": "markdown",
   "metadata": {},
   "source": [
    "Recogemos todas los nombres de los chats de la api"
   ]
  },
  {
   "cell_type": "code",
   "execution_count": 30,
   "metadata": {},
   "outputs": [
    {
     "data": {
      "text/plain": [
       "[0, 1, 2, 3, 4]"
      ]
     },
     "execution_count": 30,
     "metadata": {},
     "output_type": "execute_result"
    }
   ],
   "source": [
    "chats=requests.get('http://localhost:8080/chats').json()\n",
    "chats"
   ]
  },
  {
   "cell_type": "markdown",
   "metadata": {},
   "source": [
    "Recogemos todos los mensajes del chat x"
   ]
  },
  {
   "cell_type": "code",
   "execution_count": 31,
   "metadata": {},
   "outputs": [
    {
     "data": {
      "text/plain": [
       "{'messages': [[2, 10, 'Im so angry right now!'],\n",
       "  [3, 11, 'I saw you this morning. You shouldnt get so upset. ❤️'],\n",
       "  [2, 12, 'Impossible! Cant do it! Just cant! He pissed me off so much.'],\n",
       "  [3, 13, 'Dont get so frustrated, Leia. Remember what German said.'],\n",
       "  [2,\n",
       "   14,\n",
       "   'But how am I suposed to fix the facial recognition system if it doesnt even work?'],\n",
       "  [3, 15, 'Im sure you will find a way.'],\n",
       "  [2, 16, 'And who the hell is Tony? 🤯️'],\n",
       "  [3, 17, 'I am Iron Man'],\n",
       "  [2, 18, 'Oh shit. I think youre friends with my brother.'],\n",
       "  [3, 19, 'Uh-Oh. Better fix that quickly.'],\n",
       "  [3, 50, 'What an amazing week!']]}"
      ]
     },
     "execution_count": 31,
     "metadata": {},
     "output_type": "execute_result"
    }
   ],
   "source": [
    "chat=requests.get('http://localhost:8080/chat/1/list').json()\n",
    "chat"
   ]
  },
  {
   "cell_type": "markdown",
   "metadata": {},
   "source": [
    "Recogemos toda la informacion de los usuarios,mensajes y sentimientos del chat x de la api."
   ]
  },
  {
   "cell_type": "code",
   "execution_count": 32,
   "metadata": {},
   "outputs": [
    {
     "data": {
      "text/plain": [
       "{'sentiments': [{'idUser': 2,\n",
       "   'idMessage': 10,\n",
       "   'Message': 'Im so angry right now!',\n",
       "   'Sentiment': {'neg': 0.493, 'neu': 0.507, 'pos': 0.0, 'compound': -0.5974},\n",
       "   '_id': {'$oid': '5decd5249cede3acc4f4e690'}},\n",
       "  {'idUser': 3,\n",
       "   'idMessage': 11,\n",
       "   'Message': 'I saw you this morning. You shouldnt get so upset. ❤️',\n",
       "   'Sentiment': {'neg': 0.272, 'neu': 0.728, 'pos': 0.0, 'compound': -0.5214},\n",
       "   '_id': {'$oid': '5decd5249cede3acc4f4e691'}},\n",
       "  {'idUser': 2,\n",
       "   'idMessage': 12,\n",
       "   'Message': 'Impossible! Cant do it! Just cant! He pissed me off so much.',\n",
       "   'Sentiment': {'neg': 0.0, 'neu': 0.722, 'pos': 0.278, 'compound': 0.6421},\n",
       "   '_id': {'$oid': '5decd5249cede3acc4f4e692'}},\n",
       "  {'idUser': 3,\n",
       "   'idMessage': 13,\n",
       "   'Message': 'Dont get so frustrated, Leia. Remember what German said.',\n",
       "   'Sentiment': {'neg': 0.353, 'neu': 0.647, 'pos': 0.0, 'compound': -0.656},\n",
       "   '_id': {'$oid': '5decd5249cede3acc4f4e693'}},\n",
       "  {'idUser': 2,\n",
       "   'idMessage': 14,\n",
       "   'Message': 'But how am I suposed to fix the facial recognition system if it doesnt even work?',\n",
       "   'Sentiment': {'neg': 0.0, 'neu': 1.0, 'pos': 0.0, 'compound': 0.0},\n",
       "   '_id': {'$oid': '5decd5249cede3acc4f4e694'}},\n",
       "  {'idUser': 3,\n",
       "   'idMessage': 15,\n",
       "   'Message': 'Im sure you will find a way.',\n",
       "   'Sentiment': {'neg': 0.0, 'neu': 0.685, 'pos': 0.315, 'compound': 0.3182},\n",
       "   '_id': {'$oid': '5decd5249cede3acc4f4e695'}},\n",
       "  {'idUser': 2,\n",
       "   'idMessage': 16,\n",
       "   'Message': 'And who the hell is Tony? 🤯️',\n",
       "   'Sentiment': {'neg': 0.434, 'neu': 0.566, 'pos': 0.0, 'compound': -0.6808},\n",
       "   '_id': {'$oid': '5decd5249cede3acc4f4e696'}},\n",
       "  {'idUser': 3,\n",
       "   'idMessage': 17,\n",
       "   'Message': 'I am Iron Man',\n",
       "   'Sentiment': {'neg': 0.0, 'neu': 1.0, 'pos': 0.0, 'compound': 0.0},\n",
       "   '_id': {'$oid': '5decd5249cede3acc4f4e697'}},\n",
       "  {'idUser': 2,\n",
       "   'idMessage': 18,\n",
       "   'Message': 'Oh shit. I think youre friends with my brother.',\n",
       "   'Sentiment': {'neg': 0.283, 'neu': 0.472, 'pos': 0.244, 'compound': -0.128},\n",
       "   '_id': {'$oid': '5decd5249cede3acc4f4e698'}},\n",
       "  {'idUser': 3,\n",
       "   'idMessage': 19,\n",
       "   'Message': 'Uh-Oh. Better fix that quickly.',\n",
       "   'Sentiment': {'neg': 0.0, 'neu': 0.58, 'pos': 0.42, 'compound': 0.4404},\n",
       "   '_id': {'$oid': '5decd5249cede3acc4f4e699'}},\n",
       "  {'idUser': 3,\n",
       "   'idMessage': 50,\n",
       "   'Message': 'What an amazing week!',\n",
       "   'Sentiment': {'neg': 0.0, 'neu': 0.423, 'pos': 0.577, 'compound': 0.6239},\n",
       "   '_id': {'$oid': '5decd5249cede3acc4f4e69a'}}],\n",
       " 'compound sentiments': [-0.5974,\n",
       "  -0.5214,\n",
       "  0.6421,\n",
       "  -0.656,\n",
       "  0.0,\n",
       "  0.3182,\n",
       "  -0.6808,\n",
       "  0.0,\n",
       "  -0.128,\n",
       "  0.4404,\n",
       "  0.6239],\n",
       " 'avg sentiment [-1,1]': -0.050818181818181825}"
      ]
     },
     "execution_count": 32,
     "metadata": {},
     "output_type": "execute_result"
    }
   ],
   "source": [
    "sent=requests.get('http://localhost:8080/chat/1/sentiment').json()\n",
    "sent"
   ]
  },
  {
   "cell_type": "markdown",
   "metadata": {},
   "source": [
    "Añadimos un usuario nuevo"
   ]
  },
  {
   "cell_type": "code",
   "execution_count": 33,
   "metadata": {},
   "outputs": [
    {
     "data": {
      "text/plain": [
       "'Name already exists'"
      ]
     },
     "execution_count": 33,
     "metadata": {},
     "output_type": "execute_result"
    }
   ],
   "source": [
    "url='http://localhost:8080/user/create'\n",
    "params={\"userName\": \"Blanca Lluch\"}\n",
    "new_user=requests.post(url,data=params).text\n",
    "new_user"
   ]
  },
  {
   "cell_type": "markdown",
   "metadata": {},
   "source": [
    "Añadimos un usuario al chat indicado."
   ]
  },
  {
   "cell_type": "code",
   "execution_count": 34,
   "metadata": {},
   "outputs": [
    {
     "data": {
      "text/plain": [
       "'User 3 already in chat 2'"
      ]
     },
     "execution_count": 34,
     "metadata": {},
     "output_type": "execute_result"
    }
   ],
   "source": [
    "url='http://localhost:8080/chat/2/adduser'\n",
    "params={\"user_id\": 3}\n",
    "user_ad=requests.post(url,data=params).text\n",
    "user_ad"
   ]
  },
  {
   "cell_type": "markdown",
   "metadata": {},
   "source": [
    "Añadimos un mensaje en el chat indicado del usuario indicado."
   ]
  },
  {
   "cell_type": "code",
   "execution_count": 35,
   "metadata": {},
   "outputs": [
    {
     "data": {
      "text/plain": [
       "'{\"Message_id\": 53}'"
      ]
     },
     "execution_count": 35,
     "metadata": {},
     "output_type": "execute_result"
    }
   ],
   "source": [
    "url='http://localhost:8080/chat/2/addmessage'\n",
    "params={\"user_id\": 3,\n",
    "       \"text\":\"Horrible\"}\n",
    "message_id=requests.post(url,data=params).text\n",
    "message_id"
   ]
  },
  {
   "cell_type": "markdown",
   "metadata": {},
   "source": [
    "Pedimos recomendacion para un usuario"
   ]
  },
  {
   "cell_type": "code",
   "execution_count": 47,
   "metadata": {},
   "outputs": [
    {
     "data": {
      "text/plain": [
       "'[[\"3\", 0.15552315827194782], [\"0\", 0.14847846772912465], [\"1\", 0.08006407690254357], [\"2\", 0.0]]'"
      ]
     },
     "execution_count": 47,
     "metadata": {},
     "output_type": "execute_result"
    }
   ],
   "source": [
    "recomendation=requests.get('http://localhost:8080/user/2/recommend').text\n",
    "recomendation"
   ]
  },
  {
   "cell_type": "code",
   "execution_count": 49,
   "metadata": {},
   "outputs": [
    {
     "data": {
      "text/plain": [
       "\"5's' sentiments aren't analyzed.\""
      ]
     },
     "execution_count": 49,
     "metadata": {},
     "output_type": "execute_result"
    }
   ],
   "source": [
    "recomendation2=requests.get('http://localhost:8080/user/5/recommend').text\n",
    "recomendation2"
   ]
  },
  {
   "cell_type": "code",
   "execution_count": null,
   "metadata": {},
   "outputs": [],
   "source": []
  }
 ],
 "metadata": {
  "kernelspec": {
   "display_name": "Python 3",
   "language": "python",
   "name": "python3"
  },
  "language_info": {
   "codemirror_mode": {
    "name": "ipython",
    "version": 3
   },
   "file_extension": ".py",
   "mimetype": "text/x-python",
   "name": "python",
   "nbconvert_exporter": "python",
   "pygments_lexer": "ipython3",
   "version": "3.7.4"
  }
 },
 "nbformat": 4,
 "nbformat_minor": 2
}
