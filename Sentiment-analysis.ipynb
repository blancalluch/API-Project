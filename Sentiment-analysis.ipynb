{
 "cells": [
  {
   "cell_type": "code",
   "execution_count": 56,
   "metadata": {},
   "outputs": [],
   "source": [
    "import nltk\n",
    "from nltk.sentiment.vader import SentimentIntensityAnalyzer\n",
    "import requests\n",
    "from textblob import TextBlob"
   ]
  },
  {
   "cell_type": "code",
   "execution_count": 57,
   "metadata": {},
   "outputs": [
    {
     "data": {
      "text/plain": [
       "{'neg': 0.0, 'neu': 1.0, 'pos': 0.0, 'compound': 0.0}"
      ]
     },
     "execution_count": 57,
     "metadata": {},
     "output_type": "execute_result"
    }
   ],
   "source": [
    "sid = SentimentIntensityAnalyzer()\n",
    "sid.polarity_scores(\"Weekend proyect\")"
   ]
  },
  {
   "cell_type": "code",
   "execution_count": 101,
   "metadata": {},
   "outputs": [
    {
     "data": {
      "text/plain": [
       "{'sentiments': [{'idUser': 2,\n",
       "   'idMessage': 10,\n",
       "   'Message': 'Im so angry right now!',\n",
       "   'Sentiment': {'neg': 0.493, 'neu': 0.507, 'pos': 0.0, 'compound': -0.5974},\n",
       "   '_id': {'$oid': '5de56da0251a7c42a5e5671f'}},\n",
       "  {'idUser': 3,\n",
       "   'idMessage': 11,\n",
       "   'Message': 'I saw you this morning. You shouldnt get so upset. ❤️',\n",
       "   'Sentiment': {'neg': 0.272, 'neu': 0.728, 'pos': 0.0, 'compound': -0.5214},\n",
       "   '_id': {'$oid': '5de56da0251a7c42a5e56720'}},\n",
       "  {'idUser': 2,\n",
       "   'idMessage': 12,\n",
       "   'Message': 'Impossible! Cant do it! Just cant! He pissed me off so much.',\n",
       "   'Sentiment': {'neg': 0.0, 'neu': 0.722, 'pos': 0.278, 'compound': 0.6421},\n",
       "   '_id': {'$oid': '5de56da0251a7c42a5e56721'}},\n",
       "  {'idUser': 3,\n",
       "   'idMessage': 13,\n",
       "   'Message': 'Dont get so frustrated, Leia. Remember what German said.',\n",
       "   'Sentiment': {'neg': 0.353, 'neu': 0.647, 'pos': 0.0, 'compound': -0.656},\n",
       "   '_id': {'$oid': '5de56da0251a7c42a5e56722'}},\n",
       "  {'idUser': 2,\n",
       "   'idMessage': 14,\n",
       "   'Message': 'But how am I suposed to fix the facial recognition system if it doesnt even work?',\n",
       "   'Sentiment': {'neg': 0.0, 'neu': 1.0, 'pos': 0.0, 'compound': 0.0},\n",
       "   '_id': {'$oid': '5de56da0251a7c42a5e56723'}},\n",
       "  {'idUser': 3,\n",
       "   'idMessage': 15,\n",
       "   'Message': 'Im sure you will find a way.',\n",
       "   'Sentiment': {'neg': 0.0, 'neu': 0.685, 'pos': 0.315, 'compound': 0.3182},\n",
       "   '_id': {'$oid': '5de56da0251a7c42a5e56724'}},\n",
       "  {'idUser': 2,\n",
       "   'idMessage': 16,\n",
       "   'Message': 'And who the hell is Tony? 🤯️',\n",
       "   'Sentiment': {'neg': 0.434, 'neu': 0.566, 'pos': 0.0, 'compound': -0.6808},\n",
       "   '_id': {'$oid': '5de56da0251a7c42a5e56725'}},\n",
       "  {'idUser': 3,\n",
       "   'idMessage': 17,\n",
       "   'Message': 'I am Iron Man',\n",
       "   'Sentiment': {'neg': 0.0, 'neu': 1.0, 'pos': 0.0, 'compound': 0.0},\n",
       "   '_id': {'$oid': '5de56da0251a7c42a5e56726'}},\n",
       "  {'idUser': 2,\n",
       "   'idMessage': 18,\n",
       "   'Message': 'Oh shit. I think youre friends with my brother.',\n",
       "   'Sentiment': {'neg': 0.283, 'neu': 0.472, 'pos': 0.244, 'compound': -0.128},\n",
       "   '_id': {'$oid': '5de56da0251a7c42a5e56727'}},\n",
       "  {'idUser': 3,\n",
       "   'idMessage': 19,\n",
       "   'Message': 'Uh-Oh. Better fix that quickly.',\n",
       "   'Sentiment': {'neg': 0.0, 'neu': 0.58, 'pos': 0.42, 'compound': 0.4404},\n",
       "   '_id': {'$oid': '5de56da0251a7c42a5e56728'}}],\n",
       " 'compound sentiments': [-0.5974,\n",
       "  -0.5214,\n",
       "  0.6421,\n",
       "  -0.656,\n",
       "  0.0,\n",
       "  0.3182,\n",
       "  -0.6808,\n",
       "  0.0,\n",
       "  -0.128,\n",
       "  0.4404],\n",
       " 'avg sentiment [-1,1]': -0.11829}"
      ]
     },
     "execution_count": 101,
     "metadata": {},
     "output_type": "execute_result"
    }
   ],
   "source": [
    "data = requests.get('http://localhost:8080/chat/1/sentiment').json()\n",
    "data"
   ]
  }
 ],
 "metadata": {
  "kernelspec": {
   "display_name": "Python 3",
   "language": "python",
   "name": "python3"
  },
  "language_info": {
   "codemirror_mode": {
    "name": "ipython",
    "version": 3
   },
   "file_extension": ".py",
   "mimetype": "text/x-python",
   "name": "python",
   "nbconvert_exporter": "python",
   "pygments_lexer": "ipython3",
   "version": "3.7.4"
  }
 },
 "nbformat": 4,
 "nbformat_minor": 2
}
